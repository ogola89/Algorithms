{
  "nbformat": 4,
  "nbformat_minor": 0,
  "metadata": {
    "colab": {
      "name": "Optimization Algorithms in Python - Flight schedule problem.ipynb",
      "provenance": [],
      "collapsed_sections": [],
      "include_colab_link": true
    },
    "kernelspec": {
      "name": "python3",
      "display_name": "Python 3"
    }
  },
  "cells": [
    {
      "cell_type": "markdown",
      "metadata": {
        "id": "view-in-github",
        "colab_type": "text"
      },
      "source": [
        "<a href=\"https://colab.research.google.com/github/ogola89/Algorithms/blob/master/Optimization_Algorithms_in_Python_Flight_schedule_problem.ipynb\" target=\"_parent\"><img src=\"https://colab.research.google.com/assets/colab-badge.svg\" alt=\"Open In Colab\"/></a>"
      ]
    },
    {
      "cell_type": "markdown",
      "metadata": {
        "id": "lmY8JVlQxXjj"
      },
      "source": [
        "# Optimization Algoriths in Python - Flight schedule problem"
      ]
    },
    {
      "cell_type": "markdown",
      "metadata": {
        "id": "iA6XSNeifEB0"
      },
      "source": [
        "## Representation of problems"
      ]
    },
    {
      "cell_type": "code",
      "metadata": {
        "id": "DU0XVzUIIzGU"
      },
      "source": [
        "import time\n",
        "import random\n",
        "import math\n",
        "import sys"
      ],
      "execution_count": null,
      "outputs": []
    },
    {
      "cell_type": "code",
      "metadata": {
        "id": "en2VxaWCJCth"
      },
      "source": [
        "people = [('Lisbon', 'LIS'),\n",
        "          ('Madrid', 'MAD'),\n",
        "          ('Paris', 'CDG'),\n",
        "          ('Dublin', 'DUB'),\n",
        "          ('Brussels', 'BRU'),\n",
        "          ('London', 'LHR')]"
      ],
      "execution_count": null,
      "outputs": []
    },
    {
      "cell_type": "code",
      "metadata": {
        "id": "vYKyaxHaJwQL",
        "colab": {
          "base_uri": "https://localhost:8080/",
          "height": 55
        },
        "outputId": "7c537a1f-8da0-459d-8e31-c6992ad76c6d"
      },
      "source": [
        "people[3] # tuple"
      ],
      "execution_count": null,
      "outputs": [
        {
          "output_type": "execute_result",
          "data": {
            "text/plain": [
              "('Dublin', 'DUB')"
            ]
          },
          "metadata": {
            "tags": []
          },
          "execution_count": 3
        }
      ]
    },
    {
      "cell_type": "code",
      "metadata": {
        "id": "UQkzCW3-KOY5"
      },
      "source": [
        "destiny = 'FCO'"
      ],
      "execution_count": null,
      "outputs": []
    },
    {
      "cell_type": "code",
      "metadata": {
        "id": "FW9fkge3MSPg"
      },
      "source": [
        "flights = {('BRU', 'FCO'): ['15:44', '18:55', 382]}"
      ],
      "execution_count": null,
      "outputs": []
    },
    {
      "cell_type": "code",
      "metadata": {
        "id": "rymhYnioM_IJ",
        "colab": {
          "base_uri": "https://localhost:8080/",
          "height": 55
        },
        "outputId": "dba4f844-73a5-43e9-ebd1-cb83534c049b"
      },
      "source": [
        "flights"
      ],
      "execution_count": null,
      "outputs": [
        {
          "output_type": "execute_result",
          "data": {
            "text/plain": [
              "{('BRU', 'FCO'): ['15:44', '18:55', 382]}"
            ]
          },
          "metadata": {
            "tags": []
          },
          "execution_count": 6
        }
      ]
    },
    {
      "cell_type": "code",
      "metadata": {
        "id": "SmVQnzpoNKuq",
        "colab": {
          "base_uri": "https://localhost:8080/",
          "height": 55
        },
        "outputId": "592dbee3-50d6-4ee3-a8cc-5c8257162808"
      },
      "source": [
        "flights[('BRU', 'FCO')]"
      ],
      "execution_count": null,
      "outputs": [
        {
          "output_type": "execute_result",
          "data": {
            "text/plain": [
              "['15:44', '18:55', 382]"
            ]
          },
          "metadata": {
            "tags": []
          },
          "execution_count": 7
        }
      ]
    },
    {
      "cell_type": "code",
      "metadata": {
        "id": "nWwjazULNUo_",
        "colab": {
          "base_uri": "https://localhost:8080/",
          "height": 55
        },
        "outputId": "9e0561cc-419c-410a-89a5-7083ac4b8229"
      },
      "source": [
        "flights[('BRU', 'FCO')][0], flights[('BRU', 'FCO')][1], flights[('BRU', 'FCO')][2]"
      ],
      "execution_count": null,
      "outputs": [
        {
          "output_type": "execute_result",
          "data": {
            "text/plain": [
              "('15:44', '18:55', 382)"
            ]
          },
          "metadata": {
            "tags": []
          },
          "execution_count": 8
        }
      ]
    },
    {
      "cell_type": "code",
      "metadata": {
        "id": "DK5vEdDAL9bY"
      },
      "source": [
        "flights = {}\n",
        "for line in open('/content/flights.txt'):\n",
        "  #print(line)\n",
        "  #print(line.split(','))\n",
        "  origin, destiny, departure, arrival, price = line.split(',')\n",
        "  flights.setdefault((origin, destiny), [])\n",
        "  flights[(origin, destiny)].append((departure, arrival, int(price)))"
      ],
      "execution_count": null,
      "outputs": []
    },
    {
      "cell_type": "code",
      "metadata": {
        "id": "2xHzL04QPAv9",
        "colab": {
          "base_uri": "https://localhost:8080/",
          "height": 1000
        },
        "outputId": "774c1b00-e1dd-4605-bad2-ec3e702d17ca"
      },
      "source": [
        "flights"
      ],
      "execution_count": null,
      "outputs": [
        {
          "output_type": "execute_result",
          "data": {
            "text/plain": [
              "{('BRU', 'FCO'): [('6:12', '10:22', 230),\n",
              "  ('7:53', '11:37', 433),\n",
              "  ('9:08', '12:12', 364),\n",
              "  ('10:30', '14:57', 290),\n",
              "  ('12:19', '15:25', 342),\n",
              "  ('13:54', '18:02', 294),\n",
              "  ('15:44', '18:55', 382),\n",
              "  ('16:52', '20:48', 448),\n",
              "  ('18:26', '21:29', 464),\n",
              "  ('20:07', '23:27', 473)],\n",
              " ('CDG', 'FCO'): [('6:25', '9:30', 335),\n",
              "  ('7:34', '9:40', 324),\n",
              "  ('9:15', '12:29', 225),\n",
              "  ('11:28', '14:40', 248),\n",
              "  ('12:05', '15:30', 330),\n",
              "  ('14:01', '17:24', 338),\n",
              "  ('15:34', '18:11', 326),\n",
              "  ('17:07', '20:04', 291),\n",
              "  ('18:23', '21:35', 134),\n",
              "  ('19:53', '22:21', 173)],\n",
              " ('DUB', 'FCO'): [('6:17', '8:26', 89),\n",
              "  ('8:04', '10:11', 95),\n",
              "  ('9:45', '11:50', 172),\n",
              "  ('11:16', '13:29', 83),\n",
              "  ('12:34', '15:02', 109),\n",
              "  ('13:40', '15:37', 138),\n",
              "  ('15:27', '17:18', 151),\n",
              "  ('17:11', '18:30', 108),\n",
              "  ('18:34', '19:36', 136),\n",
              "  ('20:17', '22:22', 102)],\n",
              " ('FCO', 'BRU'): [('6:09', '9:49', 414),\n",
              "  ('7:57', '11:15', 347),\n",
              "  ('9:49', '13:51', 229),\n",
              "  ('10:51', '14:16', 256),\n",
              "  ('12:20', '16:34', 500),\n",
              "  ('14:20', '17:32', 332),\n",
              "  ('15:49', '20:10', 497),\n",
              "  ('17:14', '20:59', 277),\n",
              "  ('18:44', '22:42', 351),\n",
              "  ('19:57', '23:15', 512)],\n",
              " ('FCO', 'CDG'): [('6:33', '9:14', 172),\n",
              "  ('8:23', '11:07', 143),\n",
              "  ('9:25', '12:46', 295),\n",
              "  ('11:08', '14:38', 262),\n",
              "  ('12:37', '15:05', 170),\n",
              "  ('14:08', '16:09', 232),\n",
              "  ('15:23', '18:49', 150),\n",
              "  ('16:50', '19:26', 304),\n",
              "  ('18:07', '21:30', 355),\n",
              "  ('20:27', '23:42', 169)],\n",
              " ('FCO', 'DUB'): [('6:39', '8:09', 86),\n",
              "  ('8:23', '10:28', 149),\n",
              "  ('9:58', '11:18', 130),\n",
              "  ('10:33', '12:03', 74),\n",
              "  ('12:08', '14:05', 142),\n",
              "  ('13:39', '15:30', 74),\n",
              "  ('15:25', '16:58', 62),\n",
              "  ('17:03', '18:03', 103),\n",
              "  ('18:24', '20:49', 124),\n",
              "  ('19:58', '21:23', 142)],\n",
              " ('FCO', 'LHR'): [('6:58', '9:01', 238),\n",
              "  ('8:19', '11:16', 122),\n",
              "  ('9:58', '12:56', 249),\n",
              "  ('10:32', '13:16', 139),\n",
              "  ('12:01', '13:41', 267),\n",
              "  ('13:37', '15:33', 142),\n",
              "  ('15:50', '18:45', 243),\n",
              "  ('16:33', '18:15', 253),\n",
              "  ('18:17', '21:04', 259),\n",
              "  ('19:46', '21:45', 214)],\n",
              " ('FCO', 'LIS'): [('6:19', '8:13', 239),\n",
              "  ('8:04', '10:59', 136),\n",
              "  ('9:31', '11:43', 210),\n",
              "  ('11:07', '13:24', 171),\n",
              "  ('12:31', '14:02', 234),\n",
              "  ('14:05', '15:47', 226),\n",
              "  ('15:07', '17:21', 129),\n",
              "  ('16:35', '18:56', 144),\n",
              "  ('18:25', '20:34', 205),\n",
              "  ('20:05', '21:44', 172)],\n",
              " ('FCO', 'MAD'): [('6:03', '8:43', 219),\n",
              "  ('7:50', '10:08', 164),\n",
              "  ('9:11', '10:42', 172),\n",
              "  ('10:33', '13:11', 132),\n",
              "  ('12:08', '14:47', 231),\n",
              "  ('14:19', '17:09', 190),\n",
              "  ('15:04', '17:23', 189),\n",
              "  ('17:06', '20:00', 95),\n",
              "  ('18:33', '20:22', 143),\n",
              "  ('19:32', '21:25', 160)],\n",
              " ('LHR', 'FCO'): [('6:08', '8:06', 224),\n",
              "  ('8:27', '10:45', 139),\n",
              "  ('9:15', '12:14', 247),\n",
              "  ('10:53', '13:36', 189),\n",
              "  ('12:08', '14:59', 149),\n",
              "  ('13:40', '15:38', 137),\n",
              "  ('15:23', '17:25', 232),\n",
              "  ('17:08', '19:08', 262),\n",
              "  ('18:35', '20:28', 204),\n",
              "  ('20:30', '23:11', 114)],\n",
              " ('LIS', 'FCO'): [('6:11', '8:31', 249),\n",
              "  ('7:39', '10:24', 219),\n",
              "  ('9:15', '12:03', 99),\n",
              "  ('11:08', '13:07', 175),\n",
              "  ('12:18', '14:56', 172),\n",
              "  ('13:37', '15:08', 250),\n",
              "  ('15:03', '16:42', 135),\n",
              "  ('16:51', '19:09', 147),\n",
              "  ('18:12', '20:17', 242),\n",
              "  ('20:05', '22:06', 261)],\n",
              " ('MAD', 'FCO'): [('6:05', '8:32', 174),\n",
              "  ('8:25', '10:34', 157),\n",
              "  ('9:42', '11:32', 169),\n",
              "  ('11:01', '12:39', 260),\n",
              "  ('12:44', '14:17', 134),\n",
              "  ('14:22', '16:32', 126),\n",
              "  ('15:58', '18:40', 173),\n",
              "  ('16:43', '19:00', 246),\n",
              "  ('18:48', '21:45', 246),\n",
              "  ('19:50', '22:24', 269)]}"
            ]
          },
          "metadata": {
            "tags": []
          },
          "execution_count": 10
        }
      ]
    },
    {
      "cell_type": "code",
      "metadata": {
        "id": "KriiHk2TPZQ3",
        "colab": {
          "base_uri": "https://localhost:8080/",
          "height": 213
        },
        "outputId": "9950a814-3183-4733-b2f6-30ce288f8d75"
      },
      "source": [
        "flights[('LIS', 'FCO')]"
      ],
      "execution_count": null,
      "outputs": [
        {
          "output_type": "execute_result",
          "data": {
            "text/plain": [
              "[('6:11', '8:31', 249),\n",
              " ('7:39', '10:24', 219),\n",
              " ('9:15', '12:03', 99),\n",
              " ('11:08', '13:07', 175),\n",
              " ('12:18', '14:56', 172),\n",
              " ('13:37', '15:08', 250),\n",
              " ('15:03', '16:42', 135),\n",
              " ('16:51', '19:09', 147),\n",
              " ('18:12', '20:17', 242),\n",
              " ('20:05', '22:06', 261)]"
            ]
          },
          "metadata": {
            "tags": []
          },
          "execution_count": 11
        }
      ]
    },
    {
      "cell_type": "code",
      "metadata": {
        "id": "1_SvtVY0Pg7u",
        "colab": {
          "base_uri": "https://localhost:8080/",
          "height": 213
        },
        "outputId": "46703df8-3802-473e-b99d-84ffcd44fa50"
      },
      "source": [
        "flights[('FCO', 'LIS')]"
      ],
      "execution_count": null,
      "outputs": [
        {
          "output_type": "execute_result",
          "data": {
            "text/plain": [
              "[('6:19', '8:13', 239),\n",
              " ('8:04', '10:59', 136),\n",
              " ('9:31', '11:43', 210),\n",
              " ('11:07', '13:24', 171),\n",
              " ('12:31', '14:02', 234),\n",
              " ('14:05', '15:47', 226),\n",
              " ('15:07', '17:21', 129),\n",
              " ('16:35', '18:56', 144),\n",
              " ('18:25', '20:34', 205),\n",
              " ('20:05', '21:44', 172)]"
            ]
          },
          "metadata": {
            "tags": []
          },
          "execution_count": 12
        }
      ]
    },
    {
      "cell_type": "code",
      "metadata": {
        "id": "RovXT98PWiri",
        "colab": {
          "base_uri": "https://localhost:8080/",
          "height": 55
        },
        "outputId": "21ca0f10-6f41-4b7d-c34e-9aeb9ec92dc9"
      },
      "source": [
        "6 * 60 + 19, 10 * 60 + 59"
      ],
      "execution_count": null,
      "outputs": [
        {
          "output_type": "execute_result",
          "data": {
            "text/plain": [
              "(379, 659)"
            ]
          },
          "metadata": {
            "tags": []
          },
          "execution_count": 13
        }
      ]
    },
    {
      "cell_type": "code",
      "metadata": {
        "id": "LfzjxGh72u4M",
        "colab": {
          "base_uri": "https://localhost:8080/",
          "height": 55
        },
        "outputId": "60b5613a-286b-48be-e957-13e6f8855130"
      },
      "source": [
        "flights[('FCO', 'LIS')][1]"
      ],
      "execution_count": null,
      "outputs": [
        {
          "output_type": "execute_result",
          "data": {
            "text/plain": [
              "('8:04', '10:59', 136)"
            ]
          },
          "metadata": {
            "tags": []
          },
          "execution_count": 14
        }
      ]
    },
    {
      "cell_type": "code",
      "metadata": {
        "id": "rzqGifPkzjnQ"
      },
      "source": [
        "# [1,4, 3,2, 7,3, 6,3, 2,4, 5,3]"
      ],
      "execution_count": null,
      "outputs": []
    },
    {
      "cell_type": "code",
      "metadata": {
        "id": "CW8ykT_31mAh",
        "colab": {
          "base_uri": "https://localhost:8080/",
          "height": 55
        },
        "outputId": "29db7879-4ed5-4ace-a861-f8fb73a92079"
      },
      "source": [
        "len([1,4, 3,2, 7,3, 6,3, 2,4, 5,3])"
      ],
      "execution_count": null,
      "outputs": [
        {
          "output_type": "execute_result",
          "data": {
            "text/plain": [
              "12"
            ]
          },
          "metadata": {
            "tags": []
          },
          "execution_count": 16
        }
      ]
    },
    {
      "cell_type": "code",
      "metadata": {
        "id": "B3AtIII51xHB",
        "colab": {
          "base_uri": "https://localhost:8080/",
          "height": 55
        },
        "outputId": "9399a343-a286-4dc5-8330-d9259f945c76"
      },
      "source": [
        "len([1,4, 3,2, 7,3, 6,3, 2,4, 5,3]) // 2"
      ],
      "execution_count": null,
      "outputs": [
        {
          "output_type": "execute_result",
          "data": {
            "text/plain": [
              "6"
            ]
          },
          "metadata": {
            "tags": []
          },
          "execution_count": 17
        }
      ]
    },
    {
      "cell_type": "code",
      "metadata": {
        "id": "KORvABx71LNJ"
      },
      "source": [
        "def print_schedule(schedule):\n",
        "  flight_id = -1\n",
        "  total_price = 0\n",
        "  for i in range(len(schedule) // 2):\n",
        "    name = people[i][0]\n",
        "    origin = people[i][1]\n",
        "    flight_id += 1\n",
        "    going = flights[(origin, destiny)][schedule[flight_id]]\n",
        "    total_price += going[2]\n",
        "    flight_id += 1\n",
        "    returning = flights[(destiny, origin)][schedule[flight_id]]\n",
        "    total_price += returning[2]\n",
        "    print('%10s%10s %5s-%5s U$%3s %5s-%5s U$%3s' % (name, origin, going[0], \n",
        "                                                    going[1], going[2], \n",
        "                                                    returning[0], returning[1], returning[2]))   \n",
        "  print('Total price: ', total_price)"
      ],
      "execution_count": null,
      "outputs": []
    },
    {
      "cell_type": "code",
      "metadata": {
        "id": "G78cjH5s3mAc",
        "colab": {
          "base_uri": "https://localhost:8080/",
          "height": 160
        },
        "outputId": "827406e0-4651-437b-e86c-0d0d146bcd02"
      },
      "source": [
        "schedule = [1,2, 3,2, 7,3, 6,3, 2,4, 5,3]\n",
        "print_schedule(schedule)"
      ],
      "execution_count": null,
      "outputs": [
        {
          "output_type": "stream",
          "text": [
            "    Lisbon       LIS  7:39-10:24 U$219  9:31-11:43 U$210\n",
            "    Madrid       MAD 11:01-12:39 U$260  9:11-10:42 U$172\n",
            "     Paris       CDG 17:07-20:04 U$291 11:08-14:38 U$262\n",
            "    Dublin       DUB 15:27-17:18 U$151 10:33-12:03 U$ 74\n",
            "  Brussels       BRU  9:08-12:12 U$364 12:20-16:34 U$500\n",
            "    London       LHR 13:40-15:38 U$137 10:32-13:16 U$139\n",
            "Total price:  2779\n"
          ],
          "name": "stdout"
        }
      ]
    },
    {
      "cell_type": "code",
      "metadata": {
        "id": "XS9tDpM7W54X"
      },
      "source": [
        "t = time.strptime('7:39', '%H:%M')"
      ],
      "execution_count": null,
      "outputs": []
    },
    {
      "cell_type": "code",
      "metadata": {
        "id": "UiVgW90zXPwC",
        "colab": {
          "base_uri": "https://localhost:8080/",
          "height": 55
        },
        "outputId": "5a726f3f-5308-48e5-ddeb-3c57e9f0cdd2"
      },
      "source": [
        "t"
      ],
      "execution_count": null,
      "outputs": [
        {
          "output_type": "execute_result",
          "data": {
            "text/plain": [
              "time.struct_time(tm_year=1900, tm_mon=1, tm_mday=1, tm_hour=7, tm_min=39, tm_sec=0, tm_wday=0, tm_yday=1, tm_isdst=-1)"
            ]
          },
          "metadata": {
            "tags": []
          },
          "execution_count": 21
        }
      ]
    },
    {
      "cell_type": "code",
      "metadata": {
        "id": "99-OjJViXbiJ",
        "colab": {
          "base_uri": "https://localhost:8080/",
          "height": 55
        },
        "outputId": "6eb332de-fa41-4330-f8f8-51d1f81a0755"
      },
      "source": [
        "t[3], t[4]"
      ],
      "execution_count": null,
      "outputs": [
        {
          "output_type": "execute_result",
          "data": {
            "text/plain": [
              "(7, 39)"
            ]
          },
          "metadata": {
            "tags": []
          },
          "execution_count": 22
        }
      ]
    },
    {
      "cell_type": "code",
      "metadata": {
        "id": "lsbOos4eXj2T"
      },
      "source": [
        "def get_minutes(hour):\n",
        "  t = time.strptime(hour, '%H:%M')\n",
        "  minutes = t[3] * 60 + t[4]\n",
        "  return minutes"
      ],
      "execution_count": null,
      "outputs": []
    },
    {
      "cell_type": "code",
      "metadata": {
        "id": "uIID2heZX2dV",
        "colab": {
          "base_uri": "https://localhost:8080/",
          "height": 55
        },
        "outputId": "ec04142d-409a-4d00-ebf1-7095fd48d4a1"
      },
      "source": [
        "get_minutes('6:13'), get_minutes('23:59'), get_minutes('00:00')"
      ],
      "execution_count": null,
      "outputs": [
        {
          "output_type": "execute_result",
          "data": {
            "text/plain": [
              "(373, 1439, 0)"
            ]
          },
          "metadata": {
            "tags": []
          },
          "execution_count": 24
        }
      ]
    },
    {
      "cell_type": "markdown",
      "metadata": {
        "id": "GqqEtILuYaj-"
      },
      "source": [
        "## Fitness function"
      ]
    },
    {
      "cell_type": "code",
      "metadata": {
        "id": "b7F0vSN6b5i_",
        "colab": {
          "base_uri": "https://localhost:8080/",
          "height": 213
        },
        "outputId": "0ac3109e-8a05-4a99-8e27-2659e48780fb"
      },
      "source": [
        "flights[('LIS', 'FCO')]"
      ],
      "execution_count": null,
      "outputs": [
        {
          "output_type": "execute_result",
          "data": {
            "text/plain": [
              "[('6:11', '8:31', 249),\n",
              " ('7:39', '10:24', 219),\n",
              " ('9:15', '12:03', 99),\n",
              " ('11:08', '13:07', 175),\n",
              " ('12:18', '14:56', 172),\n",
              " ('13:37', '15:08', 250),\n",
              " ('15:03', '16:42', 135),\n",
              " ('16:51', '19:09', 147),\n",
              " ('18:12', '20:17', 242),\n",
              " ('20:05', '22:06', 261)]"
            ]
          },
          "metadata": {
            "tags": []
          },
          "execution_count": 25
        }
      ]
    },
    {
      "cell_type": "code",
      "metadata": {
        "id": "IR4fvYIEcHgS",
        "colab": {
          "base_uri": "https://localhost:8080/",
          "height": 213
        },
        "outputId": "42657170-72d7-4183-b9eb-a74d71d4aba3"
      },
      "source": [
        "flights[('FCO', 'LIS')]"
      ],
      "execution_count": null,
      "outputs": [
        {
          "output_type": "execute_result",
          "data": {
            "text/plain": [
              "[('6:19', '8:13', 239),\n",
              " ('8:04', '10:59', 136),\n",
              " ('9:31', '11:43', 210),\n",
              " ('11:07', '13:24', 171),\n",
              " ('12:31', '14:02', 234),\n",
              " ('14:05', '15:47', 226),\n",
              " ('15:07', '17:21', 129),\n",
              " ('16:35', '18:56', 144),\n",
              " ('18:25', '20:34', 205),\n",
              " ('20:05', '21:44', 172)]"
            ]
          },
          "metadata": {
            "tags": []
          },
          "execution_count": 26
        }
      ]
    },
    {
      "cell_type": "code",
      "metadata": {
        "id": "aH282InhYcTQ"
      },
      "source": [
        "def fitness_function(solution):\n",
        "  total_price = 0\n",
        "  last_arrival = 0\n",
        "  first_departure = 1439\n",
        "\n",
        "  flight_id = -1\n",
        "  for i in range(len(solution) // 2):\n",
        "    origin = people[i][1]\n",
        "    flight_id += 1\n",
        "    going = flights[(origin, destiny)][solution[flight_id]]\n",
        "    flight_id += 1\n",
        "    returning = flights[(destiny, origin)][solution[flight_id]]\n",
        "\n",
        "    total_price += going[2]\n",
        "    total_price += returning[2]\n",
        "\n",
        "    if last_arrival < get_minutes(going[1]):\n",
        "      last_arrival = get_minutes(going[1])\n",
        "    if first_departure > get_minutes(returning[0]):\n",
        "      first_departure = get_minutes(returning[0])\n",
        "\n",
        "  total_wait = 0\n",
        "  flight_id = -1\n",
        "  for i in range(len(solution) // 2):\n",
        "    origin = people[i][1]\n",
        "    flight_id += 1\n",
        "    going = flights[(origin, destiny)][solution[flight_id]]\n",
        "    flight_id += 1\n",
        "    returning = flights[(destiny, origin)][solution[flight_id]]\n",
        "\n",
        "    total_wait += last_arrival - get_minutes(going[1])\n",
        "    total_wait += get_minutes(returning[0]) - first_departure\n",
        "  \n",
        "  # 3PM - 10AM\n",
        "  # 11AM - 3PM\n",
        "  if last_arrival > first_departure:\n",
        "    total_price += 50\n",
        "  \n",
        "  return total_price + total_wait"
      ],
      "execution_count": null,
      "outputs": []
    },
    {
      "cell_type": "code",
      "metadata": {
        "id": "c_O9o135g_1n",
        "colab": {
          "base_uri": "https://localhost:8080/",
          "height": 55
        },
        "outputId": "fd8671ae-cc2e-40a9-e527-c6d93e670912"
      },
      "source": [
        "schedule = [1,4, 3,2, 7,3, 6,3, 2,4, 5,3]\n",
        "fitness_function(schedule)"
      ],
      "execution_count": null,
      "outputs": [
        {
          "output_type": "execute_result",
          "data": {
            "text/plain": [
              "5451"
            ]
          },
          "metadata": {
            "tags": []
          },
          "execution_count": 28
        }
      ]
    },
    {
      "cell_type": "code",
      "metadata": {
        "id": "8pInfU6yhUFb",
        "colab": {
          "base_uri": "https://localhost:8080/",
          "height": 55
        },
        "outputId": "0ae8f90c-e940-4e87-f50a-3b6669677fb9"
      },
      "source": [
        "schedule = [1,3, 3,2, 7,3, 6,3, 2,4, 5,3]\n",
        "fitness_function(schedule)"
      ],
      "execution_count": null,
      "outputs": [
        {
          "output_type": "execute_result",
          "data": {
            "text/plain": [
              "5304"
            ]
          },
          "metadata": {
            "tags": []
          },
          "execution_count": 29
        }
      ]
    },
    {
      "cell_type": "code",
      "metadata": {
        "id": "1iBn2xNThreN",
        "colab": {
          "base_uri": "https://localhost:8080/",
          "height": 55
        },
        "outputId": "02f3b051-3e2f-46b6-fccf-0982e35411f3"
      },
      "source": [
        "math.pow(9, 16)"
      ],
      "execution_count": null,
      "outputs": [
        {
          "output_type": "execute_result",
          "data": {
            "text/plain": [
              "1853020188851841.0"
            ]
          },
          "metadata": {
            "tags": []
          },
          "execution_count": 30
        }
      ]
    },
    {
      "cell_type": "markdown",
      "metadata": {
        "id": "bY23J7a2rAXL"
      },
      "source": [
        "## Random search"
      ]
    },
    {
      "cell_type": "code",
      "metadata": {
        "id": "t3iiB3d1rhn_",
        "colab": {
          "base_uri": "https://localhost:8080/",
          "height": 55
        },
        "outputId": "2f6d754b-9ba4-45dc-c5b4-c3a7629a9293"
      },
      "source": [
        "len(people)"
      ],
      "execution_count": null,
      "outputs": [
        {
          "output_type": "execute_result",
          "data": {
            "text/plain": [
              "6"
            ]
          },
          "metadata": {
            "tags": []
          },
          "execution_count": 31
        }
      ]
    },
    {
      "cell_type": "code",
      "metadata": {
        "id": "BVwqipkErB2l",
        "colab": {
          "base_uri": "https://localhost:8080/",
          "height": 248
        },
        "outputId": "4452d8cb-2af9-4315-b0c9-0425c2f3376b"
      },
      "source": [
        "domain = [(0,9)] * (len(people) * 2)\n",
        "domain"
      ],
      "execution_count": null,
      "outputs": [
        {
          "output_type": "execute_result",
          "data": {
            "text/plain": [
              "[(0, 9),\n",
              " (0, 9),\n",
              " (0, 9),\n",
              " (0, 9),\n",
              " (0, 9),\n",
              " (0, 9),\n",
              " (0, 9),\n",
              " (0, 9),\n",
              " (0, 9),\n",
              " (0, 9),\n",
              " (0, 9),\n",
              " (0, 9)]"
            ]
          },
          "metadata": {
            "tags": []
          },
          "execution_count": 32
        }
      ]
    },
    {
      "cell_type": "code",
      "metadata": {
        "id": "41IQaXugrxYk",
        "colab": {
          "base_uri": "https://localhost:8080/",
          "height": 55
        },
        "outputId": "1d456ee4-da79-40f5-fa68-9b250483e64a"
      },
      "source": [
        "random.randint(0, 9)"
      ],
      "execution_count": null,
      "outputs": [
        {
          "output_type": "execute_result",
          "data": {
            "text/plain": [
              "4"
            ]
          },
          "metadata": {
            "tags": []
          },
          "execution_count": 33
        }
      ]
    },
    {
      "cell_type": "code",
      "metadata": {
        "id": "EHVbmTUpsKln",
        "colab": {
          "base_uri": "https://localhost:8080/",
          "height": 55
        },
        "outputId": "f24940d6-2359-4124-bbe6-37d00b7e21c0"
      },
      "source": [
        "[random.randint(0,9) for i in range(len(domain))]"
      ],
      "execution_count": null,
      "outputs": [
        {
          "output_type": "execute_result",
          "data": {
            "text/plain": [
              "[6, 7, 8, 5, 2, 0, 6, 5, 8, 9, 3, 7]"
            ]
          },
          "metadata": {
            "tags": []
          },
          "execution_count": 34
        }
      ]
    },
    {
      "cell_type": "code",
      "metadata": {
        "id": "IC8hhlbls-e8",
        "colab": {
          "base_uri": "https://localhost:8080/",
          "height": 55
        },
        "outputId": "3870ac41-56c3-4ddb-d5a2-6d8c2ec84de2"
      },
      "source": [
        "sys.maxsize"
      ],
      "execution_count": null,
      "outputs": [
        {
          "output_type": "execute_result",
          "data": {
            "text/plain": [
              "9223372036854775807"
            ]
          },
          "metadata": {
            "tags": []
          },
          "execution_count": 35
        }
      ]
    },
    {
      "cell_type": "code",
      "metadata": {
        "id": "2PKWqhFvsqRm"
      },
      "source": [
        "def random_search(domain, fitness_function):\n",
        "  best_cost = sys.maxsize\n",
        "  for i in range(1000):\n",
        "    solution = [random.randint(domain[i][0],domain[i][1]) for i in range(len(domain))]\n",
        "    cost = fitness_function(solution)\n",
        "    if cost < best_cost:\n",
        "      best_cost = cost\n",
        "      best_solution = solution\n",
        "  return best_solution"
      ],
      "execution_count": null,
      "outputs": []
    },
    {
      "cell_type": "code",
      "metadata": {
        "id": "jKh68mnJuENu",
        "colab": {
          "base_uri": "https://localhost:8080/",
          "height": 55
        },
        "outputId": "5901d7ef-3faa-44f6-e491-b95ec98a363d"
      },
      "source": [
        "random_solution = random_search(domain, fitness_function)\n",
        "random_solution"
      ],
      "execution_count": null,
      "outputs": [
        {
          "output_type": "execute_result",
          "data": {
            "text/plain": [
              "[5, 6, 4, 7, 3, 8, 4, 8, 1, 7, 5, 6]"
            ]
          },
          "metadata": {
            "tags": []
          },
          "execution_count": 37
        }
      ]
    },
    {
      "cell_type": "code",
      "metadata": {
        "id": "wX5k_lMBuON5",
        "colab": {
          "base_uri": "https://localhost:8080/",
          "height": 55
        },
        "outputId": "a593aa46-a7a2-4180-9894-c890a9d912e2"
      },
      "source": [
        "fitness_function(random_solution)"
      ],
      "execution_count": null,
      "outputs": [
        {
          "output_type": "execute_result",
          "data": {
            "text/plain": [
              "3696"
            ]
          },
          "metadata": {
            "tags": []
          },
          "execution_count": 38
        }
      ]
    },
    {
      "cell_type": "code",
      "metadata": {
        "id": "dMLLycx5uUWA",
        "colab": {
          "base_uri": "https://localhost:8080/",
          "height": 160
        },
        "outputId": "b9b529a1-dfd7-4146-a3f2-ef0879be7d08"
      },
      "source": [
        "print_schedule(random_solution)"
      ],
      "execution_count": null,
      "outputs": [
        {
          "output_type": "stream",
          "text": [
            "    Lisbon       LIS 13:37-15:08 U$250 15:07-17:21 U$129\n",
            "    Madrid       MAD 12:44-14:17 U$134 17:06-20:00 U$ 95\n",
            "     Paris       CDG 11:28-14:40 U$248 18:07-21:30 U$355\n",
            "    Dublin       DUB 12:34-15:02 U$109 18:24-20:49 U$124\n",
            "  Brussels       BRU  7:53-11:37 U$433 17:14-20:59 U$277\n",
            "    London       LHR 13:40-15:38 U$137 15:50-18:45 U$243\n",
            "Total price:  2534\n"
          ],
          "name": "stdout"
        }
      ]
    },
    {
      "cell_type": "markdown",
      "metadata": {
        "id": "pMo4HJcsnGVT"
      },
      "source": [
        "## Hill climb"
      ]
    },
    {
      "cell_type": "code",
      "metadata": {
        "id": "2P-APFivzXtN"
      },
      "source": [
        "l = [6, 9, 5, 3, 3, 4, 5, 4, 3, 2, 5, 5]"
      ],
      "execution_count": null,
      "outputs": []
    },
    {
      "cell_type": "code",
      "metadata": {
        "id": "yLiNsPK0zhAi",
        "colab": {
          "base_uri": "https://localhost:8080/",
          "height": 55
        },
        "outputId": "3ec0c6ce-4eea-4dea-fea9-e46e40db2d04"
      },
      "source": [
        "l[0:5]"
      ],
      "execution_count": null,
      "outputs": [
        {
          "output_type": "execute_result",
          "data": {
            "text/plain": [
              "[6, 9, 5, 3, 3]"
            ]
          },
          "metadata": {
            "tags": []
          },
          "execution_count": 41
        }
      ]
    },
    {
      "cell_type": "code",
      "metadata": {
        "id": "qiKCqAMdztuU",
        "colab": {
          "base_uri": "https://localhost:8080/",
          "height": 55
        },
        "outputId": "5c541dec-c699-4372-f921-5e38e29c4ae8"
      },
      "source": [
        "[l[5] + 1]"
      ],
      "execution_count": null,
      "outputs": [
        {
          "output_type": "execute_result",
          "data": {
            "text/plain": [
              "[5]"
            ]
          },
          "metadata": {
            "tags": []
          },
          "execution_count": 42
        }
      ]
    },
    {
      "cell_type": "code",
      "metadata": {
        "id": "CO3e4Y5Fzzyg",
        "colab": {
          "base_uri": "https://localhost:8080/",
          "height": 55
        },
        "outputId": "019675fb-8fcf-4983-d1a9-054bb864b93b"
      },
      "source": [
        "l[5 + 1:]"
      ],
      "execution_count": null,
      "outputs": [
        {
          "output_type": "execute_result",
          "data": {
            "text/plain": [
              "[5, 4, 3, 2, 5, 5]"
            ]
          },
          "metadata": {
            "tags": []
          },
          "execution_count": 43
        }
      ]
    },
    {
      "cell_type": "code",
      "metadata": {
        "id": "hTlIRTgiw1bS"
      },
      "source": [
        "# [6, 9, 5, 3, 3, 4, 5, 4, 3, 2, 5, 5]\n",
        "def hill_climb(domain, fitness_function, initial = []):\n",
        "  count = 0\n",
        "  \n",
        "  if len(initial) > 0:\n",
        "    solution = initial\n",
        "  else:\n",
        "    solution = [random.randint(domain[i][0],domain[i][1]) for i in range(len(domain))]\n",
        "  \n",
        "  while True:\n",
        "    neighbors = []\n",
        "    for i in range(len(domain)):\n",
        "      if solution[i] > domain[i][0]:\n",
        "        if solution[i] != domain[i][1]:\n",
        "          neighbors.append(solution[0:i] + [solution[i] + 1] + solution[i + 1:])\n",
        "      if solution[i] < domain[i][1]:\n",
        "        if solution[i] != domain[i][0]:\n",
        "          neighbors.append(solution[0:i] + [solution[i] - 1] + solution[i + 1:])\n",
        "\n",
        "    actual = fitness_function(solution)\n",
        "    best = actual\n",
        "    for i in range(len(neighbors)):\n",
        "      count += 1\n",
        "      cost = fitness_function(neighbors[i])\n",
        "      if cost < best:\n",
        "        best = cost\n",
        "        solution = neighbors[i]\n",
        "\n",
        "    if best == actual:\n",
        "      print('Count: ', count)\n",
        "      break\n",
        "\n",
        "  return solution"
      ],
      "execution_count": null,
      "outputs": []
    },
    {
      "cell_type": "code",
      "metadata": {
        "id": "9sjc22DR1Wfn",
        "colab": {
          "base_uri": "https://localhost:8080/",
          "height": 72
        },
        "outputId": "0e4459ad-4425-4aad-ed2e-6bcd753b84b0"
      },
      "source": [
        "hill_climb_solution = hill_climb(domain, fitness_function)\n",
        "hill_climb_solution"
      ],
      "execution_count": null,
      "outputs": [
        {
          "output_type": "stream",
          "text": [
            "Count:  432\n"
          ],
          "name": "stdout"
        },
        {
          "output_type": "execute_result",
          "data": {
            "text/plain": [
              "[2, 3, 4, 3, 3, 4, 4, 3, 3, 5, 4, 5]"
            ]
          },
          "metadata": {
            "tags": []
          },
          "execution_count": 45
        }
      ]
    },
    {
      "cell_type": "code",
      "metadata": {
        "id": "Xm0468fA1f1l",
        "colab": {
          "base_uri": "https://localhost:8080/",
          "height": 55
        },
        "outputId": "dd044945-b320-4bd0-a27d-6829a240533f"
      },
      "source": [
        "fitness_function(hill_climb_solution)"
      ],
      "execution_count": null,
      "outputs": [
        {
          "output_type": "execute_result",
          "data": {
            "text/plain": [
              "2923"
            ]
          },
          "metadata": {
            "tags": []
          },
          "execution_count": 46
        }
      ]
    },
    {
      "cell_type": "code",
      "metadata": {
        "id": "5bfEhwqU7hRV",
        "colab": {
          "base_uri": "https://localhost:8080/",
          "height": 72
        },
        "outputId": "98bd80cc-eafa-42e9-fbd4-745c1e623c57"
      },
      "source": [
        "hill_climb_random_solution = hill_climb(domain, fitness_function, random_solution)\n",
        "hill_climb_random_solution"
      ],
      "execution_count": null,
      "outputs": [
        {
          "output_type": "stream",
          "text": [
            "Count:  186\n"
          ],
          "name": "stdout"
        },
        {
          "output_type": "execute_result",
          "data": {
            "text/plain": [
              "[4, 7, 4, 7, 3, 7, 4, 7, 0, 7, 4, 7]"
            ]
          },
          "metadata": {
            "tags": []
          },
          "execution_count": 47
        }
      ]
    },
    {
      "cell_type": "code",
      "metadata": {
        "id": "wCBhaPdh75Ph",
        "colab": {
          "base_uri": "https://localhost:8080/",
          "height": 55
        },
        "outputId": "a8cd81d8-03b0-4be1-8557-016aee80b896"
      },
      "source": [
        "fitness_function(hill_climb_random_solution)"
      ],
      "execution_count": null,
      "outputs": [
        {
          "output_type": "execute_result",
          "data": {
            "text/plain": [
              "2697"
            ]
          },
          "metadata": {
            "tags": []
          },
          "execution_count": 48
        }
      ]
    },
    {
      "cell_type": "code",
      "metadata": {
        "id": "Nz7hKTIk2NpV",
        "colab": {
          "base_uri": "https://localhost:8080/",
          "height": 160
        },
        "outputId": "8fdf56fb-7e35-4598-a2a0-c04f192cd014"
      },
      "source": [
        "print_schedule(hill_climb_solution)"
      ],
      "execution_count": null,
      "outputs": [
        {
          "output_type": "stream",
          "text": [
            "    Lisbon       LIS  9:15-12:03 U$ 99 11:07-13:24 U$171\n",
            "    Madrid       MAD 12:44-14:17 U$134 10:33-13:11 U$132\n",
            "     Paris       CDG 11:28-14:40 U$248 12:37-15:05 U$170\n",
            "    Dublin       DUB 12:34-15:02 U$109 10:33-12:03 U$ 74\n",
            "  Brussels       BRU 10:30-14:57 U$290 14:20-17:32 U$332\n",
            "    London       LHR 12:08-14:59 U$149 13:37-15:33 U$142\n",
            "Total price:  2050\n"
          ],
          "name": "stdout"
        }
      ]
    },
    {
      "cell_type": "markdown",
      "metadata": {
        "id": "mgHnSkdacDEp"
      },
      "source": [
        "## Simulated annealing"
      ]
    },
    {
      "cell_type": "code",
      "metadata": {
        "id": "V4YarF07exu2",
        "colab": {
          "base_uri": "https://localhost:8080/",
          "height": 55
        },
        "outputId": "33642ab6-24ec-4257-9718-8f1ede22798c"
      },
      "source": [
        "10000 * 0.95"
      ],
      "execution_count": null,
      "outputs": [
        {
          "output_type": "execute_result",
          "data": {
            "text/plain": [
              "9500.0"
            ]
          },
          "metadata": {
            "tags": []
          },
          "execution_count": 50
        }
      ]
    },
    {
      "cell_type": "code",
      "metadata": {
        "id": "n87Oqu0hgIYa",
        "colab": {
          "base_uri": "https://localhost:8080/",
          "height": 55
        },
        "outputId": "97e6c905-defc-4a62-8a5f-e07f900de92f"
      },
      "source": [
        "random.randint(0, len(domain) - 1)"
      ],
      "execution_count": null,
      "outputs": [
        {
          "output_type": "execute_result",
          "data": {
            "text/plain": [
              "10"
            ]
          },
          "metadata": {
            "tags": []
          },
          "execution_count": 51
        }
      ]
    },
    {
      "cell_type": "code",
      "metadata": {
        "id": "k5n5Z6zrgmWb",
        "colab": {
          "base_uri": "https://localhost:8080/",
          "height": 55
        },
        "outputId": "5885d826-3b64-4bfd-942b-344c08b7e0de"
      },
      "source": [
        "random.randint(-1, 1)"
      ],
      "execution_count": null,
      "outputs": [
        {
          "output_type": "execute_result",
          "data": {
            "text/plain": [
              "1"
            ]
          },
          "metadata": {
            "tags": []
          },
          "execution_count": 52
        }
      ]
    },
    {
      "cell_type": "code",
      "metadata": {
        "id": "MQA4jVs4iW7M",
        "colab": {
          "base_uri": "https://localhost:8080/",
          "height": 55
        },
        "outputId": "a60e9195-a13e-476c-ac1d-8d0b314d2853"
      },
      "source": [
        "math.e"
      ],
      "execution_count": null,
      "outputs": [
        {
          "output_type": "execute_result",
          "data": {
            "text/plain": [
              "2.718281828459045"
            ]
          },
          "metadata": {
            "tags": []
          },
          "execution_count": 53
        }
      ]
    },
    {
      "cell_type": "code",
      "metadata": {
        "id": "yRJr8-2Uix38",
        "colab": {
          "base_uri": "https://localhost:8080/",
          "height": 55
        },
        "outputId": "fbf189f7-9d34-40f6-b580-b8bcfcbd05bf"
      },
      "source": [
        "random.random()"
      ],
      "execution_count": null,
      "outputs": [
        {
          "output_type": "execute_result",
          "data": {
            "text/plain": [
              "0.3993203197660119"
            ]
          },
          "metadata": {
            "tags": []
          },
          "execution_count": 54
        }
      ]
    },
    {
      "cell_type": "code",
      "metadata": {
        "id": "XO-rTu4zcFB8"
      },
      "source": [
        "# [6, 9, 5, 3, 3, 4, 5, 4, 3, 2, 5, 5]\n",
        "def simulated_anneling(domain, fitness_function, temperature = 50000.0,\n",
        "                       cooling = 0.95, step = 1, initial = []):\n",
        "  count = 0\n",
        "\n",
        "  if len(initial) > 0:\n",
        "    solution = initial\n",
        "  else:\n",
        "    solution = [random.randint(domain[i][0], domain[i][1]) for i in range(len(domain))]\n",
        "   \n",
        "  while temperature > 0.1:\n",
        "    i = random.randint(0, len(domain) - 1)\n",
        "    direction = random.randint(-step, step)\n",
        "    temp_solution = solution[:] \n",
        "    temp_solution[i] += direction\n",
        "    if temp_solution[i] < domain[i][0]:\n",
        "      temp_solution[i] = domain[i][0]\n",
        "    elif temp_solution[i] > domain[i][1]:\n",
        "      temp_solution[i] = domain[i][1]\n",
        "\n",
        "    count += 1\n",
        "    cost_solution = fitness_function(solution)\n",
        "    cost_solution_temp = fitness_function(temp_solution)\n",
        "    probability = pow(math.e, (-cost_solution_temp - cost_solution) / temperature)\n",
        "\n",
        "    if (cost_solution_temp < cost_solution or random.random() < probability):\n",
        "      solution = temp_solution\n",
        "\n",
        "    temperature = temperature * cooling\n",
        "\n",
        "  print('Count: ', count)\n",
        "  return solution"
      ],
      "execution_count": null,
      "outputs": []
    },
    {
      "cell_type": "code",
      "metadata": {
        "id": "7R2C9aowjh0b",
        "colab": {
          "base_uri": "https://localhost:8080/",
          "height": 72
        },
        "outputId": "03aabe35-f339-4f65-df7b-8a04ae92c1c7"
      },
      "source": [
        "simulated_annealing_solution = simulated_anneling(domain, fitness_function)\n",
        "simulated_annealing_solution"
      ],
      "execution_count": null,
      "outputs": [
        {
          "output_type": "stream",
          "text": [
            "Count:  256\n"
          ],
          "name": "stdout"
        },
        {
          "output_type": "execute_result",
          "data": {
            "text/plain": [
              "[7, 6, 6, 5, 6, 9, 7, 6, 5, 5, 7, 6]"
            ]
          },
          "metadata": {
            "tags": []
          },
          "execution_count": 56
        }
      ]
    },
    {
      "cell_type": "code",
      "metadata": {
        "id": "KRDqtQSojzR3",
        "colab": {
          "base_uri": "https://localhost:8080/",
          "height": 55
        },
        "outputId": "3a0045ed-5858-4dfc-b384-6bdc73b24571"
      },
      "source": [
        "fitness_function(simulated_annealing_solution)"
      ],
      "execution_count": null,
      "outputs": [
        {
          "output_type": "execute_result",
          "data": {
            "text/plain": [
              "3253"
            ]
          },
          "metadata": {
            "tags": []
          },
          "execution_count": 57
        }
      ]
    },
    {
      "cell_type": "code",
      "metadata": {
        "id": "iS2iKg9akLOi",
        "colab": {
          "base_uri": "https://localhost:8080/",
          "height": 160
        },
        "outputId": "85dabd7e-6089-4480-abb0-be4c5d251cfa"
      },
      "source": [
        "print_schedule(simulated_annealing_solution)"
      ],
      "execution_count": null,
      "outputs": [
        {
          "output_type": "stream",
          "text": [
            "    Lisbon       LIS 16:51-19:09 U$147 15:07-17:21 U$129\n",
            "    Madrid       MAD 15:58-18:40 U$173 14:19-17:09 U$190\n",
            "     Paris       CDG 15:34-18:11 U$326 20:27-23:42 U$169\n",
            "    Dublin       DUB 17:11-18:30 U$108 15:25-16:58 U$ 62\n",
            "  Brussels       BRU 13:54-18:02 U$294 14:20-17:32 U$332\n",
            "    London       LHR 17:08-19:08 U$262 15:50-18:45 U$243\n",
            "Total price:  2435\n"
          ],
          "name": "stdout"
        }
      ]
    },
    {
      "cell_type": "code",
      "metadata": {
        "id": "Eqp4SuFVp4pD",
        "colab": {
          "base_uri": "https://localhost:8080/",
          "height": 72
        },
        "outputId": "9c8a8dc4-5585-4022-86db-03089d92fff4"
      },
      "source": [
        "simulated_annealing_random_solution = simulated_anneling(domain, fitness_function,\n",
        "                                                         initial = random_solution)\n",
        "simulated_annealing_random_solution"
      ],
      "execution_count": null,
      "outputs": [
        {
          "output_type": "stream",
          "text": [
            "Count:  256\n"
          ],
          "name": "stdout"
        },
        {
          "output_type": "execute_result",
          "data": {
            "text/plain": [
              "[6, 7, 6, 7, 3, 9, 7, 7, 0, 7, 6, 7]"
            ]
          },
          "metadata": {
            "tags": []
          },
          "execution_count": 59
        }
      ]
    },
    {
      "cell_type": "code",
      "metadata": {
        "id": "0bBlADkzqByH",
        "colab": {
          "base_uri": "https://localhost:8080/",
          "height": 55
        },
        "outputId": "d4f9d05f-e86e-49f9-edab-e3f8ac1e511a"
      },
      "source": [
        "fitness_function(simulated_annealing_random_solution)"
      ],
      "execution_count": null,
      "outputs": [
        {
          "output_type": "execute_result",
          "data": {
            "text/plain": [
              "3498"
            ]
          },
          "metadata": {
            "tags": []
          },
          "execution_count": 61
        }
      ]
    },
    {
      "cell_type": "markdown",
      "metadata": {
        "id": "Zt7GvTvc1dnQ"
      },
      "source": [
        "## Genetic algorithm"
      ]
    },
    {
      "cell_type": "markdown",
      "metadata": {
        "id": "dVUupb4J1frl"
      },
      "source": [
        "### Mutation"
      ]
    },
    {
      "cell_type": "code",
      "metadata": {
        "id": "VVIE9Y4b2vu1",
        "colab": {
          "base_uri": "https://localhost:8080/",
          "height": 55
        },
        "outputId": "9b54a5ee-18d7-49ff-a445-a3ae9edc2ecf"
      },
      "source": [
        "len(domain)"
      ],
      "execution_count": null,
      "outputs": [
        {
          "output_type": "execute_result",
          "data": {
            "text/plain": [
              "12"
            ]
          },
          "metadata": {
            "tags": []
          },
          "execution_count": 62
        }
      ]
    },
    {
      "cell_type": "code",
      "metadata": {
        "id": "t3QvAAjB3wyD",
        "colab": {
          "base_uri": "https://localhost:8080/",
          "height": 248
        },
        "outputId": "19068466-598e-4098-adad-3ba65259e3e8"
      },
      "source": [
        "domain"
      ],
      "execution_count": null,
      "outputs": [
        {
          "output_type": "execute_result",
          "data": {
            "text/plain": [
              "[(0, 9),\n",
              " (0, 9),\n",
              " (0, 9),\n",
              " (0, 9),\n",
              " (0, 9),\n",
              " (0, 9),\n",
              " (0, 9),\n",
              " (0, 9),\n",
              " (0, 9),\n",
              " (0, 9),\n",
              " (0, 9),\n",
              " (0, 9)]"
            ]
          },
          "metadata": {
            "tags": []
          },
          "execution_count": 69
        }
      ]
    },
    {
      "cell_type": "code",
      "metadata": {
        "id": "gF60EH1f3PwI",
        "colab": {
          "base_uri": "https://localhost:8080/",
          "height": 55
        },
        "outputId": "4ddb72a4-02b0-4e08-cb06-5fa997dd2456"
      },
      "source": [
        "random.random()"
      ],
      "execution_count": null,
      "outputs": [
        {
          "output_type": "execute_result",
          "data": {
            "text/plain": [
              "0.30287744922089666"
            ]
          },
          "metadata": {
            "tags": []
          },
          "execution_count": 68
        }
      ]
    },
    {
      "cell_type": "code",
      "metadata": {
        "id": "N88T9AVM19_S"
      },
      "source": [
        "def mutation(domain, step, solution):\n",
        "  gene = random.randint(0, len(domain) - 1)\n",
        "  mutant = solution\n",
        "  if random.random() < 0.5:\n",
        "    if solution[gene] != domain[gene][0]:\n",
        "      mutant = solution[0:gene] + [solution[gene] - step] + solution[gene + 1:]\n",
        "  else:\n",
        "    if solution[gene] != domain[gene][1]:\n",
        "      mutant = solution[0:gene] + [solution[gene] + step] + solution[gene + 1:]\n",
        "  return mutant"
      ],
      "execution_count": null,
      "outputs": []
    },
    {
      "cell_type": "code",
      "metadata": {
        "id": "okL6rHcl4jZo",
        "colab": {
          "base_uri": "https://localhost:8080/",
          "height": 55
        },
        "outputId": "cd0eae2f-f193-4ef7-dce5-58450cb20060"
      },
      "source": [
        "s = [6, 7, 6, 7, 3, 9, 7, 7, 0, 7, 6, 7]\n",
        "mutation(domain, 2, s)"
      ],
      "execution_count": null,
      "outputs": [
        {
          "output_type": "execute_result",
          "data": {
            "text/plain": [
              "[6, 7, 6, 7, 3, 9, 7, 7, 0, 9, 6, 7]"
            ]
          },
          "metadata": {
            "tags": []
          },
          "execution_count": 75
        }
      ]
    },
    {
      "cell_type": "markdown",
      "metadata": {
        "id": "zKq4suN21hI2"
      },
      "source": [
        "### Crossover"
      ]
    },
    {
      "cell_type": "code",
      "metadata": {
        "id": "VTz3eal57K1V",
        "colab": {
          "base_uri": "https://localhost:8080/",
          "height": 55
        },
        "outputId": "83889acd-c985-43e3-fd6c-5346a2e77bcc"
      },
      "source": [
        "len(domain) - 2"
      ],
      "execution_count": null,
      "outputs": [
        {
          "output_type": "execute_result",
          "data": {
            "text/plain": [
              "10"
            ]
          },
          "metadata": {
            "tags": []
          },
          "execution_count": 76
        }
      ]
    },
    {
      "cell_type": "code",
      "metadata": {
        "id": "BxwBkbP56fgO"
      },
      "source": [
        "# [6, 7, 6, 7, 3, 9, 7, 7, 0, 9, 6, 7]\n",
        "def crossover(domain, solution1, solution2):\n",
        "  gene = random.randint(1, len(domain) - 2)\n",
        "  return solution1[0:gene] + solution2[gene:]"
      ],
      "execution_count": null,
      "outputs": []
    },
    {
      "cell_type": "code",
      "metadata": {
        "id": "TSnwYuCB7llJ"
      },
      "source": [
        "s1 = [1,4, 3,2, 7,3, 6,3, 2,4, 5,3]\n",
        "s2 = [0,1, 2,5, 8,9, 2,3, 5,1, 0,6]"
      ],
      "execution_count": null,
      "outputs": []
    },
    {
      "cell_type": "code",
      "metadata": {
        "id": "z95vk06x7sam",
        "colab": {
          "base_uri": "https://localhost:8080/",
          "height": 55
        },
        "outputId": "ebb3dcfc-9872-4288-ae14-71c72fdb3950"
      },
      "source": [
        "crossover(domain, s1, s2)"
      ],
      "execution_count": null,
      "outputs": [
        {
          "output_type": "execute_result",
          "data": {
            "text/plain": [
              "[1, 4, 3, 2, 7, 9, 2, 3, 5, 1, 0, 6]"
            ]
          },
          "metadata": {
            "tags": []
          },
          "execution_count": 88
        }
      ]
    },
    {
      "cell_type": "markdown",
      "metadata": {
        "id": "B6urUBOs1ixK"
      },
      "source": [
        "### Genetic algorithm"
      ]
    },
    {
      "cell_type": "code",
      "metadata": {
        "id": "R6ugFsdEiw0-",
        "colab": {
          "base_uri": "https://localhost:8080/",
          "height": 55
        },
        "outputId": "8390d111-1a70-4f8b-8279-2fea9cd0710d"
      },
      "source": [
        "int(0.2 * 100)"
      ],
      "execution_count": null,
      "outputs": [
        {
          "output_type": "execute_result",
          "data": {
            "text/plain": [
              "20"
            ]
          },
          "metadata": {
            "tags": []
          },
          "execution_count": 92
        }
      ]
    },
    {
      "cell_type": "code",
      "metadata": {
        "id": "1sqztPEul5Ms",
        "colab": {
          "base_uri": "https://localhost:8080/",
          "height": 55
        },
        "outputId": "8fa89828-e103-46dc-ec26-b17e18a8489d"
      },
      "source": [
        "random.random()"
      ],
      "execution_count": null,
      "outputs": [
        {
          "output_type": "execute_result",
          "data": {
            "text/plain": [
              "0.1474843753698729"
            ]
          },
          "metadata": {
            "tags": []
          },
          "execution_count": 102
        }
      ]
    },
    {
      "cell_type": "code",
      "metadata": {
        "id": "qi-1mxemfjZY"
      },
      "source": [
        "def genetic(domain, fitness_function, population_size = 100, step = 1,\n",
        "            probability_mutation = 0.2, elitism = 0.2,\n",
        "            number_generations = 500, search = False):\n",
        "  population = []\n",
        "  for i in range(population_size):\n",
        "    if search == True:\n",
        "      solution = random_search(domain, fitness_function)\n",
        "    else:\n",
        "      solution = [random.randint(domain[i][0], domain[i][1]) for i in range(len(domain))]\n",
        "    \n",
        "    population.append(solution)\n",
        "\n",
        "  number_elitism = int(elitism * population_size)\n",
        "\n",
        "  for i in range(number_generations):\n",
        "    costs = [(fitness_function(individual), individual) for individual in population]\n",
        "    costs.sort()\n",
        "    ordered_individuals = [individual for (cost, individual) in costs]\n",
        "    population = ordered_individuals[0:number_elitism]\n",
        "    while len(population) < population_size:\n",
        "      if random.random() < probability_mutation:\n",
        "        m = random.randint(0, number_elitism)\n",
        "        population.append(mutation(domain, step, ordered_individuals[m]))\n",
        "      else:\n",
        "        i1 = random.randint(0, number_elitism)\n",
        "        i2 = random.randint(0, number_elitism)\n",
        "        population.append(crossover(domain, ordered_individuals[i1], ordered_individuals[i2]))\n",
        "  return costs[0][1]"
      ],
      "execution_count": null,
      "outputs": []
    },
    {
      "cell_type": "code",
      "metadata": {
        "id": "txWE2q8VneWH",
        "colab": {
          "base_uri": "https://localhost:8080/",
          "height": 55
        },
        "outputId": "3d5a1366-0558-4320-8799-a31a13064c12"
      },
      "source": [
        "genetic_solution = genetic(domain, fitness_function)\n",
        "genetic_solution"
      ],
      "execution_count": null,
      "outputs": [
        {
          "output_type": "execute_result",
          "data": {
            "text/plain": [
              "[6, 6, 6, 4, 6, 4, 7, 4, 5, 5, 6, 5]"
            ]
          },
          "metadata": {
            "tags": []
          },
          "execution_count": 125
        }
      ]
    },
    {
      "cell_type": "code",
      "metadata": {
        "id": "sqBUQ_nnn0tl",
        "colab": {
          "base_uri": "https://localhost:8080/",
          "height": 55
        },
        "outputId": "23bef68a-6ded-4397-9a4e-7d6a8af09a4a"
      },
      "source": [
        "fitness_function(genetic_solution)"
      ],
      "execution_count": null,
      "outputs": [
        {
          "output_type": "execute_result",
          "data": {
            "text/plain": [
              "3163"
            ]
          },
          "metadata": {
            "tags": []
          },
          "execution_count": 126
        }
      ]
    },
    {
      "cell_type": "code",
      "metadata": {
        "id": "TCAYnsx7oEdD"
      },
      "source": [
        "print_schedule(genetic_solution)"
      ],
      "execution_count": null,
      "outputs": []
    },
    {
      "cell_type": "code",
      "metadata": {
        "id": "0dWfR9e3uq19",
        "colab": {
          "base_uri": "https://localhost:8080/",
          "height": 55
        },
        "outputId": "607a76d4-1bc0-48c9-e3fc-34776e6d2f7f"
      },
      "source": [
        "genetic_random_solution = genetic(domain, fitness_function, search = True)\n",
        "genetic_random_solution"
      ],
      "execution_count": null,
      "outputs": [
        {
          "output_type": "execute_result",
          "data": {
            "text/plain": [
              "[4, 1, 2, 1, 3, 1, 4, 1, 3, 2, 4, 1]"
            ]
          },
          "metadata": {
            "tags": []
          },
          "execution_count": 127
        }
      ]
    },
    {
      "cell_type": "code",
      "metadata": {
        "id": "7vNUjQY_uvCg",
        "colab": {
          "base_uri": "https://localhost:8080/",
          "height": 55
        },
        "outputId": "cb4ebebc-1842-478e-bb7d-544859cb8b9d"
      },
      "source": [
        "fitness_function(genetic_random_solution)"
      ],
      "execution_count": null,
      "outputs": [
        {
          "output_type": "execute_result",
          "data": {
            "text/plain": [
              "2604"
            ]
          },
          "metadata": {
            "tags": []
          },
          "execution_count": 128
        }
      ]
    }
  ]
}